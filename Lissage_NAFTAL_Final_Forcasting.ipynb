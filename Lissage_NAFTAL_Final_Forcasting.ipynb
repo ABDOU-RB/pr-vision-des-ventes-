{
 "cells": [
  {
   "cell_type": "code",
   "execution_count": 1,
   "id": "21735a5f",
   "metadata": {},
   "outputs": [],
   "source": [
    "import numpy as np\n",
    "import pandas as pd\n",
    "import seaborn as sns\n",
    "import matplotlib.pyplot as plt\n",
    "import matplotlib as mpl\n",
    "from numpy import percentile\n",
    "from numpy import median\n",
    "from numpy import abs\n",
    "from sklearn.model_selection import train_test_split\n",
    "from sklearn.preprocessing import StandardScaler\n",
    "from sklearn.linear_model import LinearRegression\n",
    "from sklearn.metrics import mean_squared_error, r2_score\n",
    "from sklearn.preprocessing import LabelEncoder\n",
    "\n",
    "from sklearn.preprocessing import OneHotEncoder\n",
    "\n",
    "import numpy as np\n",
    "import pandas as pd\n",
    "import seaborn as sns\n",
    "import matplotlib.pyplot as plt\n",
    "import matplotlib as mpl\n",
    "from datetime import datetime\n",
    "from sklearn.model_selection import train_test_split\n",
    "from sklearn.preprocessing import StandardScaler\n",
    "from sklearn.preprocessing import LabelEncoder\n",
    "from keras.models import Sequential\n",
    "import datetime as dt\n",
    "import urllib.request, json\n",
    "import os\n",
    "import numpy as np\n",
    "import tensorflow as tf # This code has been tested with TensorFlow 1.6\n",
    "from sklearn.preprocessing import MinMaxScaler\n",
    "from tensorflow import keras\n",
    "from tensorflow.keras.layers import Bidirectional, Dropout, Activation, Dense, LSTM\n",
    "from tensorflow.compat.v1.keras.layers import CuDNNLSTM\n",
    "from tensorflow.keras.models import Sequential"
   ]
  },
  {
   "cell_type": "code",
   "execution_count": 2,
   "id": "13e56171",
   "metadata": {},
   "outputs": [
    {
     "name": "stdout",
     "output_type": "stream",
     "text": [
      "        DimDistrictFK  DimStructurePK      designationPRD  \\\n",
      "0       DimDistrictFK  DimStructurePK  DESIGNATIONPRODUIT   \n",
      "1                 405            7218  ESSENCE SANS PLOMB   \n",
      "2                 405            7218  ESSENCE SANS PLOMB   \n",
      "3                 405            7218  ESSENCE SANS PLOMB   \n",
      "4                 405            7218  ESSENCE SANS PLOMB   \n",
      "...               ...             ...                 ...   \n",
      "259664            416            7634             GAS OIL   \n",
      "259665            416            7634             GAS OIL   \n",
      "259666            416            7634             GAS OIL   \n",
      "259667            416            7634             GAS OIL   \n",
      "259668            416            7634             GAS OIL   \n",
      "\n",
      "                         dateop  QUANTITE_TM  \n",
      "0                          JOUR  quantite_tm  \n",
      "1       2008-01-02 00:00:00.000       131,49  \n",
      "2       2008-01-03 00:00:00.000       79,884  \n",
      "3       2008-01-04 00:00:00.000      192,591  \n",
      "4       2008-01-05 00:00:00.000      84,1965  \n",
      "...                         ...          ...  \n",
      "259664  2022-12-27 00:00:00.000     582,6141  \n",
      "259665  2022-12-28 00:00:00.000     582,6972  \n",
      "259666  2022-12-29 00:00:00.000      790,281  \n",
      "259667  2022-12-30 00:00:00.000      447,078  \n",
      "259668  2022-12-31 00:00:00.000    1283,2302  \n",
      "\n",
      "[259669 rows x 5 columns]\n"
     ]
    },
    {
     "name": "stderr",
     "output_type": "stream",
     "text": [
      "C:\\Users\\abdel\\AppData\\Local\\Temp\\ipykernel_16240\\121196607.py:2: DtypeWarning: Columns (0,1) have mixed types. Specify dtype option on import or set low_memory=False.\n",
      "  df = pd.read_csv('dataset_completnew.csv',sep=';', encoding='utf-8', header=None)\n"
     ]
    }
   ],
   "source": [
    "# charger le dataset dans un DataFrame sans nom de colonnes\n",
    "df = pd.read_csv('dataset_completnew.csv',sep=';', encoding='utf-8', header=None)\n",
    "\n",
    "# renommer les colonnes en leur attribuant des noms\n",
    "df = df.rename(columns={0: 'DimDistrictFK', 1: 'DimStructurePK', 2: 'designationPRD',3: 'dateop',4: 'QUANTITE_TM'})\n",
    "\n",
    "# afficher le DataFrame avec les colonnes renommées\n",
    "print(df)"
   ]
  },
  {
   "cell_type": "code",
   "execution_count": 3,
   "id": "f7fd720c",
   "metadata": {},
   "outputs": [],
   "source": [
    "#converting designation\n",
    "\n",
    "df['designationPRD'] = df['designationPRD'].replace({'GAS OIL': 0, 'ESSENCE SANS PLOMB': 1})\n"
   ]
  },
  {
   "cell_type": "code",
   "execution_count": 4,
   "id": "6fbab6c4",
   "metadata": {},
   "outputs": [
    {
     "data": {
      "text/html": [
       "<div>\n",
       "<style scoped>\n",
       "    .dataframe tbody tr th:only-of-type {\n",
       "        vertical-align: middle;\n",
       "    }\n",
       "\n",
       "    .dataframe tbody tr th {\n",
       "        vertical-align: top;\n",
       "    }\n",
       "\n",
       "    .dataframe thead th {\n",
       "        text-align: right;\n",
       "    }\n",
       "</style>\n",
       "<table border=\"1\" class=\"dataframe\">\n",
       "  <thead>\n",
       "    <tr style=\"text-align: right;\">\n",
       "      <th></th>\n",
       "      <th>DimDistrictFK</th>\n",
       "      <th>DimStructurePK</th>\n",
       "      <th>designationPRD</th>\n",
       "      <th>dateop</th>\n",
       "      <th>QUANTITE_TM</th>\n",
       "    </tr>\n",
       "  </thead>\n",
       "  <tbody>\n",
       "    <tr>\n",
       "      <th>0</th>\n",
       "      <td>DimDistrictFK</td>\n",
       "      <td>DimStructurePK</td>\n",
       "      <td>DESIGNATIONPRODUIT</td>\n",
       "      <td>JOUR</td>\n",
       "      <td>quantite_tm</td>\n",
       "    </tr>\n",
       "    <tr>\n",
       "      <th>1</th>\n",
       "      <td>405</td>\n",
       "      <td>7218</td>\n",
       "      <td>1</td>\n",
       "      <td>2008-01-02 00:00:00.000</td>\n",
       "      <td>131,49</td>\n",
       "    </tr>\n",
       "    <tr>\n",
       "      <th>2</th>\n",
       "      <td>405</td>\n",
       "      <td>7218</td>\n",
       "      <td>1</td>\n",
       "      <td>2008-01-03 00:00:00.000</td>\n",
       "      <td>79,884</td>\n",
       "    </tr>\n",
       "    <tr>\n",
       "      <th>3</th>\n",
       "      <td>405</td>\n",
       "      <td>7218</td>\n",
       "      <td>1</td>\n",
       "      <td>2008-01-04 00:00:00.000</td>\n",
       "      <td>192,591</td>\n",
       "    </tr>\n",
       "    <tr>\n",
       "      <th>4</th>\n",
       "      <td>405</td>\n",
       "      <td>7218</td>\n",
       "      <td>1</td>\n",
       "      <td>2008-01-05 00:00:00.000</td>\n",
       "      <td>84,1965</td>\n",
       "    </tr>\n",
       "    <tr>\n",
       "      <th>...</th>\n",
       "      <td>...</td>\n",
       "      <td>...</td>\n",
       "      <td>...</td>\n",
       "      <td>...</td>\n",
       "      <td>...</td>\n",
       "    </tr>\n",
       "    <tr>\n",
       "      <th>259664</th>\n",
       "      <td>416</td>\n",
       "      <td>7634</td>\n",
       "      <td>0</td>\n",
       "      <td>2022-12-27 00:00:00.000</td>\n",
       "      <td>582,6141</td>\n",
       "    </tr>\n",
       "    <tr>\n",
       "      <th>259665</th>\n",
       "      <td>416</td>\n",
       "      <td>7634</td>\n",
       "      <td>0</td>\n",
       "      <td>2022-12-28 00:00:00.000</td>\n",
       "      <td>582,6972</td>\n",
       "    </tr>\n",
       "    <tr>\n",
       "      <th>259666</th>\n",
       "      <td>416</td>\n",
       "      <td>7634</td>\n",
       "      <td>0</td>\n",
       "      <td>2022-12-29 00:00:00.000</td>\n",
       "      <td>790,281</td>\n",
       "    </tr>\n",
       "    <tr>\n",
       "      <th>259667</th>\n",
       "      <td>416</td>\n",
       "      <td>7634</td>\n",
       "      <td>0</td>\n",
       "      <td>2022-12-30 00:00:00.000</td>\n",
       "      <td>447,078</td>\n",
       "    </tr>\n",
       "    <tr>\n",
       "      <th>259668</th>\n",
       "      <td>416</td>\n",
       "      <td>7634</td>\n",
       "      <td>0</td>\n",
       "      <td>2022-12-31 00:00:00.000</td>\n",
       "      <td>1283,2302</td>\n",
       "    </tr>\n",
       "  </tbody>\n",
       "</table>\n",
       "<p>259669 rows × 5 columns</p>\n",
       "</div>"
      ],
      "text/plain": [
       "        DimDistrictFK  DimStructurePK      designationPRD  \\\n",
       "0       DimDistrictFK  DimStructurePK  DESIGNATIONPRODUIT   \n",
       "1                 405            7218                   1   \n",
       "2                 405            7218                   1   \n",
       "3                 405            7218                   1   \n",
       "4                 405            7218                   1   \n",
       "...               ...             ...                 ...   \n",
       "259664            416            7634                   0   \n",
       "259665            416            7634                   0   \n",
       "259666            416            7634                   0   \n",
       "259667            416            7634                   0   \n",
       "259668            416            7634                   0   \n",
       "\n",
       "                         dateop  QUANTITE_TM  \n",
       "0                          JOUR  quantite_tm  \n",
       "1       2008-01-02 00:00:00.000       131,49  \n",
       "2       2008-01-03 00:00:00.000       79,884  \n",
       "3       2008-01-04 00:00:00.000      192,591  \n",
       "4       2008-01-05 00:00:00.000      84,1965  \n",
       "...                         ...          ...  \n",
       "259664  2022-12-27 00:00:00.000     582,6141  \n",
       "259665  2022-12-28 00:00:00.000     582,6972  \n",
       "259666  2022-12-29 00:00:00.000      790,281  \n",
       "259667  2022-12-30 00:00:00.000      447,078  \n",
       "259668  2022-12-31 00:00:00.000    1283,2302  \n",
       "\n",
       "[259669 rows x 5 columns]"
      ]
     },
     "execution_count": 4,
     "metadata": {},
     "output_type": "execute_result"
    }
   ],
   "source": [
    "df\n"
   ]
  },
  {
   "cell_type": "code",
   "execution_count": 5,
   "id": "01d32184",
   "metadata": {},
   "outputs": [],
   "source": [
    "df1 = df.drop([df.index[0]])\n",
    "df = df1"
   ]
  },
  {
   "cell_type": "code",
   "execution_count": 6,
   "id": "98b59ea2",
   "metadata": {},
   "outputs": [
    {
     "name": "stdout",
     "output_type": "stream",
     "text": [
      "['7218' '7261' '7601' '7241' '7267' '7268' '7283' '7287' '7332' '7358'\n",
      " '7304' '7327' '7350' '7351' 7351 7298 7308 7314 7316 7208 7232 7340 7341\n",
      " 7342 7343 7344 7385 7634]\n"
     ]
    }
   ],
   "source": [
    "# Afficher toutes les valeurs uniques de la colonne 'DimStructurePK'\n",
    "structures_pk = df['DimStructurePK'].unique()\n",
    "print(structures_pk)"
   ]
  },
  {
   "cell_type": "code",
   "execution_count": 7,
   "id": "0a8631b0",
   "metadata": {},
   "outputs": [
    {
     "name": "stdout",
     "output_type": "stream",
     "text": [
      "DimDistrictFK      object\n",
      "DimStructurePK     object\n",
      "designationPRD     object\n",
      "dateop             object\n",
      "QUANTITE_TM       float64\n",
      "dtype: object\n"
     ]
    }
   ],
   "source": [
    "# Remplacer les virgules par des points et convertir en float\n",
    "df['QUANTITE_TM'] = df['QUANTITE_TM'].apply(lambda x: float(x.replace(',', '.')))\n",
    "\n",
    "# Afficher les types de données de chaque colonne dans le DataFrame\n",
    "print(df.dtypes)"
   ]
  },
  {
   "cell_type": "code",
   "execution_count": 8,
   "id": "19ee0170",
   "metadata": {},
   "outputs": [
    {
     "name": "stdout",
     "output_type": "stream",
     "text": [
      "                        dateop  QUANTITE_TM\n",
      "5308   2008-01-02 00:00:00.000     827.2605\n",
      "5309   2008-01-03 00:00:00.000     524.3610\n",
      "5310   2008-01-04 00:00:00.000     465.7755\n",
      "5311   2008-01-05 00:00:00.000     532.6710\n",
      "5312   2008-01-06 00:00:00.000     625.7430\n",
      "...                        ...          ...\n",
      "10650  2022-12-27 00:00:00.000     942.3540\n",
      "10651  2022-12-28 00:00:00.000     939.0300\n",
      "10652  2022-12-29 00:00:00.000     836.8170\n",
      "10653  2022-12-30 00:00:00.000     644.8560\n",
      "10654  2022-12-31 00:00:00.000     639.0390\n",
      "\n",
      "[5347 rows x 2 columns]\n"
     ]
    }
   ],
   "source": [
    "# Sélectionner les lignes avec DimStructurePK = 7218 et designationPRD = 1\n",
    "df7218 = df[(df['DimStructurePK'] == '7218') & (df['designationPRD'] == 0)]\n",
    "\n",
    "# Garder uniquement les colonnes 'dateop' et 'QUANTITE_TM'\n",
    "df7218 = df7218[['dateop', 'QUANTITE_TM']]\n",
    "\n",
    "# Afficher le DataFrame df7218\n",
    "print(df7218)\n"
   ]
  },
  {
   "cell_type": "code",
   "execution_count": 9,
   "id": "9d901c66",
   "metadata": {},
   "outputs": [],
   "source": [
    "df=df7218"
   ]
  },
  {
   "cell_type": "code",
   "execution_count": 10,
   "id": "93e97eb2",
   "metadata": {},
   "outputs": [
    {
     "name": "stdout",
     "output_type": "stream",
     "text": [
      "Nombre d'outliers trouvés: 63\n"
     ]
    }
   ],
   "source": [
    "# Calcule du Z-score pour chaque valeur de la variable \"QUANTITE_TM\"\n",
    "z_scores = np.abs((df['QUANTITE_TM'] - df['QUANTITE_TM'].mean()) / df['QUANTITE_TM'].std())\n",
    "\n",
    "# Définir le seuil pour la détection des outliers\n",
    "threshold = 3\n",
    "\n",
    "# Trouver les indices des outliers\n",
    "outlier_indices = np.where(z_scores > threshold)[0]\n",
    "\n",
    "# Afficher le nombre d'outliers trouvés\n",
    "print(f\"Nombre d'outliers trouvés: {len(outlier_indices)}\")\n"
   ]
  },
  {
   "cell_type": "code",
   "execution_count": 11,
   "id": "b3f79ccc",
   "metadata": {},
   "outputs": [
    {
     "data": {
      "text/html": [
       "<div>\n",
       "<style scoped>\n",
       "    .dataframe tbody tr th:only-of-type {\n",
       "        vertical-align: middle;\n",
       "    }\n",
       "\n",
       "    .dataframe tbody tr th {\n",
       "        vertical-align: top;\n",
       "    }\n",
       "\n",
       "    .dataframe thead th {\n",
       "        text-align: right;\n",
       "    }\n",
       "</style>\n",
       "<table border=\"1\" class=\"dataframe\">\n",
       "  <thead>\n",
       "    <tr style=\"text-align: right;\">\n",
       "      <th></th>\n",
       "      <th>dateop</th>\n",
       "      <th>QUANTITE_TM</th>\n",
       "    </tr>\n",
       "  </thead>\n",
       "  <tbody>\n",
       "    <tr>\n",
       "      <th>0</th>\n",
       "      <td>2008-01</td>\n",
       "      <td>17752.6530</td>\n",
       "    </tr>\n",
       "    <tr>\n",
       "      <th>1</th>\n",
       "      <td>2008-02</td>\n",
       "      <td>16384.4115</td>\n",
       "    </tr>\n",
       "    <tr>\n",
       "      <th>2</th>\n",
       "      <td>2008-03</td>\n",
       "      <td>17352.1110</td>\n",
       "    </tr>\n",
       "    <tr>\n",
       "      <th>3</th>\n",
       "      <td>2008-04</td>\n",
       "      <td>17345.4630</td>\n",
       "    </tr>\n",
       "    <tr>\n",
       "      <th>4</th>\n",
       "      <td>2008-05</td>\n",
       "      <td>17391.1680</td>\n",
       "    </tr>\n",
       "    <tr>\n",
       "      <th>...</th>\n",
       "      <td>...</td>\n",
       "      <td>...</td>\n",
       "    </tr>\n",
       "    <tr>\n",
       "      <th>174</th>\n",
       "      <td>2022-08</td>\n",
       "      <td>27574.2420</td>\n",
       "    </tr>\n",
       "    <tr>\n",
       "      <th>175</th>\n",
       "      <td>2022-09</td>\n",
       "      <td>24613.3890</td>\n",
       "    </tr>\n",
       "    <tr>\n",
       "      <th>176</th>\n",
       "      <td>2022-10</td>\n",
       "      <td>25441.0650</td>\n",
       "    </tr>\n",
       "    <tr>\n",
       "      <th>177</th>\n",
       "      <td>2022-11</td>\n",
       "      <td>24356.6100</td>\n",
       "    </tr>\n",
       "    <tr>\n",
       "      <th>178</th>\n",
       "      <td>2022-12</td>\n",
       "      <td>25803.7965</td>\n",
       "    </tr>\n",
       "  </tbody>\n",
       "</table>\n",
       "<p>179 rows × 2 columns</p>\n",
       "</div>"
      ],
      "text/plain": [
       "      dateop  QUANTITE_TM\n",
       "0    2008-01   17752.6530\n",
       "1    2008-02   16384.4115\n",
       "2    2008-03   17352.1110\n",
       "3    2008-04   17345.4630\n",
       "4    2008-05   17391.1680\n",
       "..       ...          ...\n",
       "174  2022-08   27574.2420\n",
       "175  2022-09   24613.3890\n",
       "176  2022-10   25441.0650\n",
       "177  2022-11   24356.6100\n",
       "178  2022-12   25803.7965\n",
       "\n",
       "[179 rows x 2 columns]"
      ]
     },
     "execution_count": 11,
     "metadata": {},
     "output_type": "execute_result"
    }
   ],
   "source": [
    "# Convertir la colonne 'dateop' en type de données datetime\n",
    "df['dateop'] = pd.to_datetime(df['dateop'])\n",
    "\n",
    "# Créer une nouvelle colonne 'mois' contenant le mois extrait de la colonne 'dateop'\n",
    "df['dateop'] = df['dateop'].dt.to_period('M')\n",
    "\n",
    "# Calculer la somme des valeurs de 'QUANTITE_TM' par mois\n",
    "df = df.groupby('dateop')['QUANTITE_TM'].sum().reset_index()\n",
    "\n",
    "# Afficher le DataFrame avec la somme de 'QUANTITE_TM' par mois\n",
    "df"
   ]
  },
  {
   "cell_type": "code",
   "execution_count": 12,
   "id": "0de9749d",
   "metadata": {},
   "outputs": [],
   "source": [
    "#Transformer la variable de temps dateop en index du dataframe :\n",
    "df = df.set_index('dateop')"
   ]
  },
  {
   "cell_type": "code",
   "execution_count": 13,
   "id": "50eeca8f",
   "metadata": {},
   "outputs": [
    {
     "data": {
      "text/html": [
       "<div>\n",
       "<style scoped>\n",
       "    .dataframe tbody tr th:only-of-type {\n",
       "        vertical-align: middle;\n",
       "    }\n",
       "\n",
       "    .dataframe tbody tr th {\n",
       "        vertical-align: top;\n",
       "    }\n",
       "\n",
       "    .dataframe thead th {\n",
       "        text-align: right;\n",
       "    }\n",
       "</style>\n",
       "<table border=\"1\" class=\"dataframe\">\n",
       "  <thead>\n",
       "    <tr style=\"text-align: right;\">\n",
       "      <th></th>\n",
       "      <th>QUANTITE_TM</th>\n",
       "    </tr>\n",
       "    <tr>\n",
       "      <th>dateop</th>\n",
       "      <th></th>\n",
       "    </tr>\n",
       "  </thead>\n",
       "  <tbody>\n",
       "    <tr>\n",
       "      <th>2008-01</th>\n",
       "      <td>17752.6530</td>\n",
       "    </tr>\n",
       "    <tr>\n",
       "      <th>2008-02</th>\n",
       "      <td>16384.4115</td>\n",
       "    </tr>\n",
       "    <tr>\n",
       "      <th>2008-03</th>\n",
       "      <td>17352.1110</td>\n",
       "    </tr>\n",
       "    <tr>\n",
       "      <th>2008-04</th>\n",
       "      <td>17345.4630</td>\n",
       "    </tr>\n",
       "    <tr>\n",
       "      <th>2008-05</th>\n",
       "      <td>17391.1680</td>\n",
       "    </tr>\n",
       "    <tr>\n",
       "      <th>...</th>\n",
       "      <td>...</td>\n",
       "    </tr>\n",
       "    <tr>\n",
       "      <th>2022-08</th>\n",
       "      <td>27574.2420</td>\n",
       "    </tr>\n",
       "    <tr>\n",
       "      <th>2022-09</th>\n",
       "      <td>24613.3890</td>\n",
       "    </tr>\n",
       "    <tr>\n",
       "      <th>2022-10</th>\n",
       "      <td>25441.0650</td>\n",
       "    </tr>\n",
       "    <tr>\n",
       "      <th>2022-11</th>\n",
       "      <td>24356.6100</td>\n",
       "    </tr>\n",
       "    <tr>\n",
       "      <th>2022-12</th>\n",
       "      <td>25803.7965</td>\n",
       "    </tr>\n",
       "  </tbody>\n",
       "</table>\n",
       "<p>179 rows × 1 columns</p>\n",
       "</div>"
      ],
      "text/plain": [
       "         QUANTITE_TM\n",
       "dateop              \n",
       "2008-01   17752.6530\n",
       "2008-02   16384.4115\n",
       "2008-03   17352.1110\n",
       "2008-04   17345.4630\n",
       "2008-05   17391.1680\n",
       "...              ...\n",
       "2022-08   27574.2420\n",
       "2022-09   24613.3890\n",
       "2022-10   25441.0650\n",
       "2022-11   24356.6100\n",
       "2022-12   25803.7965\n",
       "\n",
       "[179 rows x 1 columns]"
      ]
     },
     "execution_count": 13,
     "metadata": {},
     "output_type": "execute_result"
    }
   ],
   "source": [
    "df"
   ]
  },
  {
   "cell_type": "code",
   "execution_count": 14,
   "id": "006dcd20",
   "metadata": {},
   "outputs": [
    {
     "data": {
      "image/png": "[encoded data removed]",
      "text/plain": [
       "<Figure size 864x576 with 1 Axes>"
      ]
     },
     "metadata": {
      "needs_background": "light"
     },
     "output_type": "display_data"
    }
   ],
   "source": [
    "# Convertir l'index en valeurs numériques\n",
    "df['dateop'] = df.index.astype('int')\n",
    "\n",
    "# Tracer la courbe d'évolution\n",
    "plt.figure(figsize=(12, 8))  \n",
    "plt.plot(df['dateop'], df['QUANTITE_TM'], linewidth=2, marker='o', markersize=6)\n",
    "\n",
    "# Ajouter des labels et un titre\n",
    "plt.xlabel('Date')\n",
    "plt.ylabel('Quantité')\n",
    "plt.title('Évolution de la quantité QUANTITE_TM')\n",
    "\n",
    "# Rotation des labels de l'axe x pour une meilleure lisibilité (facultatif)\n",
    "plt.xticks(rotation=45)\n",
    "\n",
    "# Afficher la grille (facultatif)\n",
    "plt.grid(True)\n",
    "\n",
    "# Afficher la courbe\n",
    "plt.show()\n",
    "\n",
    "#si je me trompe pas w lahou A3lem f had la station kayen Trends et non stationnaire. so we need differincing  \n",
    "#Differencing can help stabilise the mean of a time series by removing changes in the level of a time series, and therefore eliminating (or reducing) trend and seasonality."
   ]
  },
  {
   "cell_type": "code",
   "execution_count": 15,
   "id": "f74d2110",
   "metadata": {},
   "outputs": [
    {
     "data": {
      "image/png": "[encoded data removed]",
      "text/plain": [
       "<Figure size 864x576 with 1 Axes>"
      ]
     },
     "metadata": {
      "needs_background": "light"
     },
     "output_type": "display_data"
    }
   ],
   "source": [
    "# Histogramme de la variable 'QUANTITE_TM'\n",
    "plt.figure(figsize=(12, 8))  \n",
    "plt.hist(df['QUANTITE_TM'], bins=20)\n",
    "plt.title('Histogramme de la quantité vendue')\n",
    "plt.xlabel('Quantité')\n",
    "plt.ylabel('Nombre de mois')\n",
    "plt.show()"
   ]
  },
  {
   "cell_type": "code",
   "execution_count": 16,
   "id": "dc59f53e",
   "metadata": {},
   "outputs": [
    {
     "name": "stderr",
     "output_type": "stream",
     "text": [
      "C:\\Users\\abdel\\anaconda3\\lib\\site-packages\\statsmodels\\graphics\\tsaplots.py:348: FutureWarning: The default method 'yw' can produce PACF values outside of the [-1,1] interval. After 0.13, the default will change tounadjusted Yule-Walker ('ywm'). You can use this method now by setting method='ywm'.\n",
      "  warnings.warn(\n"
     ]
    },
    {
     "data": {
      "image/png": "[encoded data removed]",
      "text/plain": [
       "<Figure size 864x288 with 1 Axes>"
      ]
     },
     "metadata": {
      "needs_background": "light"
     },
     "output_type": "display_data"
    },
    {
     "data": {
      "image/png": "[encoded data removed]",
      "text/plain": [
       "<Figure size 864x288 with 1 Axes>"
      ]
     },
     "metadata": {
      "needs_background": "light"
     },
     "output_type": "display_data"
    }
   ],
   "source": [
    "import statsmodels.api as sm\n",
    "from statsmodels.graphics.tsaplots import plot_acf, plot_pacf\n",
    "\n",
    "# Série temporelle\n",
    "ts = df['QUANTITE_TM']\n",
    "\n",
    "# Analyse ACF\n",
    "fig, ax = plt.subplots(figsize=(12, 4))\n",
    "plot_acf(ts, lags=20, ax=ax)\n",
    "plt.xlabel('Lag')\n",
    "plt.ylabel('ACF')\n",
    "plt.title('Autocorrélation')\n",
    "\n",
    "# Analyse PACF\n",
    "fig, ax = plt.subplots(figsize=(12, 4))\n",
    "plot_pacf(ts, lags=20, ax=ax)\n",
    "plt.xlabel('Lag')\n",
    "plt.ylabel('PACF')\n",
    "plt.title('Autocorrélation partielle')\n",
    "\n",
    "plt.show()\n",
    "\n",
    "#Ce code génère deux graphiques : l'ACF (autocorrélation) et la PACF (autocorrélation partielle) avec des lags allant jusqu'à 20. Vous pouvez ajuster la valeur de lags selon vos besoins. Les graphiques vous aideront à identifier les ordres AR, MA et I en fonction des valeurs significatives de corrélation dans les lags."
   ]
  },
  {
   "cell_type": "code",
   "execution_count": 17,
   "id": "c115647e",
   "metadata": {},
   "outputs": [
    {
     "name": "stdout",
     "output_type": "stream",
     "text": [
      "Résultats du test de Dickey-Fuller Augmenté :\n",
      "   Test Statistic : -1.8649154589888544\n",
      "   p-value : 0.3487416302015731\n",
      "   Valeurs Critiques :\n",
      "      1%: -3.47086589632514\n",
      "      5%: -2.879330279087651\n",
      "      10%: -2.57625492712671\n",
      "Les données ne sont pas stationnaires (p-value > 0.05)\n"
     ]
    }
   ],
   "source": [
    "# Vérifier si les données sont stationnaires\n",
    "# Ici, nous utilisons le test augmenté de Dickey-Fuller (ADF) pour tester la stationnarité\n",
    "from statsmodels.tsa.stattools import adfuller\n",
    "\n",
    "def test_stationarity(timeseries):\n",
    "    # Effectuer le test ADF\n",
    "    result = adfuller(timeseries)\n",
    "    \n",
    "    # Extraire les valeurs de test et comparer avec les valeurs critiques\n",
    "    test_statistic = result[0]\n",
    "    p_value = result[1]\n",
    "    critical_values = result[4]\n",
    "    \n",
    "    # Afficher les résultats\n",
    "    print('Résultats du test de Dickey-Fuller Augmenté :')\n",
    "    print(f'   Test Statistic : {test_statistic}')\n",
    "    print(f'   p-value : {p_value}')\n",
    "    print(f'   Valeurs Critiques :')\n",
    "    for key, value in critical_values.items():\n",
    "        print(f'      {key}: {value}')\n",
    "    \n",
    "    # Interprétation des résultats\n",
    "    if p_value <= 0.05:\n",
    "        print('Les données sont stationnaires (p-value <= 0.05)')\n",
    "    else:\n",
    "        print('Les données ne sont pas stationnaires (p-value > 0.05)')\n",
    "\n",
    "# Appliquer le test de stationnarité sur la colonne cible 'QUANTITE_TM'\n",
    "test_stationarity(df['QUANTITE_TM'])"
   ]
  },
  {
   "cell_type": "code",
   "execution_count": 18,
   "id": "f18b35bd",
   "metadata": {},
   "outputs": [],
   "source": [
    "# Diviser les données en deux jeux de données : un ensemble d'entraînement et un ensemble de test\n",
    "train = df.loc['2008-01-01':'2021-12-31']['QUANTITE_TM']\n",
    "test = df.loc[df.index > '2021-12-31']['QUANTITE_TM']\n"
   ]
  },
  {
   "cell_type": "code",
   "execution_count": 19,
   "id": "788e796a",
   "metadata": {},
   "outputs": [
    {
     "data": {
      "text/plain": [
       "dateop\n",
       "2022-01    23735.0220\n",
       "2022-02    22780.2030\n",
       "2022-03    25427.6028\n",
       "2022-04    22742.8080\n",
       "2022-05    23903.7150\n",
       "2022-06    25528.3200\n",
       "2022-07    25429.4310\n",
       "2022-08    27574.2420\n",
       "2022-09    24613.3890\n",
       "2022-10    25441.0650\n",
       "2022-11    24356.6100\n",
       "2022-12    25803.7965\n",
       "Freq: M, Name: QUANTITE_TM, dtype: float64"
      ]
     },
     "execution_count": 19,
     "metadata": {},
     "output_type": "execute_result"
    }
   ],
   "source": [
    "test # les valeurs négatives c'est du a la différenciation donc normal."
   ]
  },
  {
   "cell_type": "code",
   "execution_count": 20,
   "id": "5de4a075",
   "metadata": {},
   "outputs": [
    {
     "data": {
      "image/png": "[encoded data removed]",
      "text/plain": [
       "<Figure size 864x576 with 1 Axes>"
      ]
     },
     "metadata": {
      "needs_background": "light"
     },
     "output_type": "display_data"
    }
   ],
   "source": [
    "# Convertir l'index en objets Timestamp\n",
    "df.index = df.index.to_timestamp()\n",
    "\n",
    "# Tracer la courbe d'évolution\n",
    "plt.figure(figsize=(12, 8))\n",
    "plt.grid(True)\n",
    "plt.xlabel('Dates')\n",
    "plt.ylabel('Quantité')\n",
    "plt.plot(df.loc['2008-01-01':'2021-12-31']['QUANTITE_TM'], 'blue', label=\"Train data\")\n",
    "plt.plot(df.loc[df.index > '2021-12-31']['QUANTITE_TM'], 'red', label=\"Test data\")\n",
    "\n",
    "plt.legend()\n",
    "\n",
    "# Afficher la courbe\n",
    "plt.show()"
   ]
  },
  {
   "cell_type": "code",
   "execution_count": 21,
   "id": "36f1541a",
   "metadata": {},
   "outputs": [
    {
     "name": "stdout",
     "output_type": "stream",
     "text": [
      "2022-01    22060.617972\n",
      "2022-02    23653.939304\n",
      "2022-03    22077.988996\n",
      "2022-04    22940.613516\n",
      "2022-05    23633.751296\n",
      "2022-06    24652.197184\n",
      "2022-07    25282.351520\n",
      "2022-08    24784.956927\n",
      "2022-09    25209.431889\n",
      "2022-10    23761.767708\n",
      "2022-11    24773.468574\n",
      "2022-12    23808.743705\n",
      "Freq: M, dtype: float64\n"
     ]
    },
    {
     "name": "stderr",
     "output_type": "stream",
     "text": [
      "C:\\Users\\abdel\\anaconda3\\lib\\site-packages\\statsmodels\\tsa\\holtwinters\\model.py:915: ConvergenceWarning: Optimization failed to converge. Check mle_retvals.\n",
      "  warnings.warn(\n"
     ]
    }
   ],
   "source": [
    "from statsmodels.tsa.holtwinters import ExponentialSmoothing\n",
    "\n",
    "# Créer le modèle de lissage exponentiel avec une fréquence mensuelle\n",
    "model = ExponentialSmoothing(train, trend=\"multiplicative\", seasonal=\"multiplicative\")\n",
    "#model = ExponentialSmoothing(train, trend=\"add\", seasonal=\"add\")\n",
    "\n",
    "# Ajuster le modèle aux données d'entraînement\n",
    "model_fit = model.fit()\n",
    "\n",
    "# Prédire les valeurs sur l'ensemble de test\n",
    "predictions = model_fit.predict(start=test.index[0], end=test.index[-1])\n",
    "\n",
    "# Afficher les prédictions\n",
    "print(predictions)\n",
    "\n"
   ]
  },
  {
   "cell_type": "code",
   "execution_count": 22,
   "id": "09b00c2e",
   "metadata": {},
   "outputs": [
    {
     "name": "stdout",
     "output_type": "stream",
     "text": [
      "RMSE: 1602.0198726040621\n"
     ]
    }
   ],
   "source": [
    "from sklearn.metrics import mean_squared_error\n",
    "\n",
    "# Exclure la première valeur des données de test\n",
    "#test = test[1:]\n",
    "\n",
    "# Calculer la racine de l'erreur quadratique moyenne (RMSE)\n",
    "rmse = np.sqrt(mean_squared_error(test, predictions))\n",
    "print('RMSE:', rmse)\n"
   ]
  },
  {
   "cell_type": "code",
   "execution_count": 23,
   "id": "6854a55a",
   "metadata": {},
   "outputs": [
    {
     "data": {
      "text/plain": [
       "<function matplotlib.pyplot.show(close=None, block=None)>"
      ]
     },
     "execution_count": 23,
     "metadata": {},
     "output_type": "execute_result"
    },
    {
     "data": {
      "image/png": "[encoded data removed]",
      "text/plain": [
       "<Figure size 1080x648 with 1 Axes>"
      ]
     },
     "metadata": {
      "needs_background": "light"
     },
     "output_type": "display_data"
    }
   ],
   "source": [
    "plt.figure(figsize = (15,9))\n",
    "plt.grid(True)\n",
    "\n",
    "date_range = df.loc[df.index > '2021-12-31']['QUANTITE_TM'].index\n",
    "\n",
    "plt.plot(date_range, predictions, color=\"blue\", marker = \"o\", linestyle=\"dashed\", label=\"Predicted  quantité\")\n",
    "plt.plot(date_range, test, color=\"red\", marker = \"o\", linestyle=\"dashed\", label=\"réel  quantité\")\n",
    "\n",
    "plt.title(\" quantité prédiction\")\n",
    "plt.xlabel('date')\n",
    "plt.ylabel('price')\n",
    "plt.legend()\n",
    "plt.show\n",
    "\n"
   ]
  },
  {
   "cell_type": "code",
   "execution_count": 24,
   "id": "30cc2b39",
   "metadata": {},
   "outputs": [
    {
     "data": {
      "image/png": "[encoded data removed]",
      "text/plain": [
       "<Figure size 432x288 with 1 Axes>"
      ]
     },
     "metadata": {
      "needs_background": "light"
     },
     "output_type": "display_data"
    }
   ],
   "source": [
    "import matplotlib.pyplot as plt\n",
    "\n",
    "# Convertir les objets Period en valeurs numériques\n",
    "test_values = test.values\n",
    "model_predictions_values = predictions.values\n",
    "\n",
    "# Tracer les données\n",
    "plt.plot(test_values, label='Valeurs réelles')\n",
    "plt.plot(model_predictions_values, label='Valeurs prédites')\n",
    "plt.legend()\n",
    "plt.show()\n"
   ]
  },
  {
   "cell_type": "code",
   "execution_count": 25,
   "id": "db2741aa",
   "metadata": {},
   "outputs": [
    {
     "data": {
      "image/png": "[encoded data removed]",
      "text/plain": [
       "<Figure size 864x576 with 1 Axes>"
      ]
     },
     "metadata": {
      "needs_background": "light"
     },
     "output_type": "display_data"
    }
   ],
   "source": [
    "import numpy as np\n",
    "import matplotlib.pyplot as plt\n",
    "from sklearn.metrics import mean_squared_error, r2_score\n",
    "\n",
    "# Convertir les dates de l'index en objets de type 'Period' et les convertir en chaînes de caractères\n",
    "months = df.loc[df.index > '2021-12-31'].index.to_period('M').astype(str)\n",
    "\n",
    "# Calculer les métriques d'évaluation\n",
    "rmse = np.sqrt(mean_squared_error(test, predictions))\n",
    "r2 = r2_score(test, predictions)\n",
    "\n",
    "# Tracer les barres pour chaque mois\n",
    "plt.figure(figsize=(12, 8))\n",
    "plt.bar(months, predictions, color='blue', alpha=0.7, label='Valeurs prédites')\n",
    "plt.bar(months, test, color='green', alpha=0.7, label='Valeurs réelles')\n",
    "\n",
    "# Ajouter des labels et un titre\n",
    "plt.xlabel('Mois')\n",
    "plt.ylabel('Quantité')\n",
    "plt.title('Valeurs prédites vs Valeurs réelles')\n",
    "plt.legend()\n",
    "\n",
    "# Afficher le graphique\n",
    "plt.show()\n",
    "\n",
    "\n",
    "\n"
   ]
  },
  {
   "cell_type": "code",
   "execution_count": 26,
   "id": "2c3de97b",
   "metadata": {},
   "outputs": [
    {
     "data": {
      "image/png": "[encoded data removed]",
      "text/plain": [
       "<Figure size 720x432 with 1 Axes>"
      ]
     },
     "metadata": {
      "needs_background": "light"
     },
     "output_type": "display_data"
    }
   ],
   "source": [
    "import matplotlib.pyplot as plt\n",
    "import numpy as np\n",
    "\n",
    "# Définir les données\n",
    "y_true = test\n",
    "y_pred = predictions\n",
    "months = df.loc[df.index > '2021-12-31'].index.to_period('M').astype(str)\n",
    "months = months\n",
    "\n",
    "# Créer la figure\n",
    "fig, ax = plt.subplots(figsize=(10, 6))\n",
    "\n",
    "# Créer les barres pour les valeurs réelles et prédites\n",
    "bar_width = 0.35\n",
    "opacity = 0.8\n",
    "index = np.arange(len(months))\n",
    "rects1 = ax.bar(index, y_true, bar_width, alpha=opacity, color='b', label='Réel')\n",
    "rects2 = ax.bar(index + bar_width, y_pred, bar_width, alpha=opacity, color='r', label='Prédit')\n",
    "\n",
    "# Ajouter des étiquettes, un titre et une légende\n",
    "ax.set_xlabel('Mois')\n",
    "ax.set_ylabel('Quantité vendue (en tonnes)')\n",
    "ax.set_title('Comparaison des valeurs réelles et prédites pour chaque mois')\n",
    "ax.set_xticks(index + bar_width / 2)\n",
    "ax.set_xticklabels(months, rotation=45)\n",
    "ax.legend()\n",
    "\n",
    "# Afficher le graphique\n",
    "plt.tight_layout()\n",
    "plt.show()\n"
   ]
  },
  {
   "cell_type": "code",
   "execution_count": 27,
   "id": "70306316",
   "metadata": {},
   "outputs": [],
   "source": [
    "d23 = pd.read_csv('Dataset_2023.csv',sep=';', encoding='utf-8', header=None)"
   ]
  },
  {
   "cell_type": "code",
   "execution_count": 28,
   "id": "f343abc4",
   "metadata": {},
   "outputs": [
    {
     "data": {
      "text/html": [
       "<div>\n",
       "<style scoped>\n",
       "    .dataframe tbody tr th:only-of-type {\n",
       "        vertical-align: middle;\n",
       "    }\n",
       "\n",
       "    .dataframe tbody tr th {\n",
       "        vertical-align: top;\n",
       "    }\n",
       "\n",
       "    .dataframe thead th {\n",
       "        text-align: right;\n",
       "    }\n",
       "</style>\n",
       "<table border=\"1\" class=\"dataframe\">\n",
       "  <thead>\n",
       "    <tr style=\"text-align: right;\">\n",
       "      <th></th>\n",
       "      <th>DimDistrictFK</th>\n",
       "      <th>DimStructurePK</th>\n",
       "      <th>designationPRD</th>\n",
       "      <th>DimClientPK</th>\n",
       "      <th>SA</th>\n",
       "      <th>dateop</th>\n",
       "      <th>QUANTITE_TM</th>\n",
       "    </tr>\n",
       "  </thead>\n",
       "  <tbody>\n",
       "    <tr>\n",
       "      <th>0</th>\n",
       "      <td>dimDistrictPK</td>\n",
       "      <td>dimStructurePK</td>\n",
       "      <td>designationPRD</td>\n",
       "      <td>DimClientPK</td>\n",
       "      <td>SA</td>\n",
       "      <td>dateop</td>\n",
       "      <td>quantiteTM</td>\n",
       "    </tr>\n",
       "    <tr>\n",
       "      <th>1</th>\n",
       "      <td>405</td>\n",
       "      <td>7218</td>\n",
       "      <td>ESSENCE SANS PLOMB</td>\n",
       "      <td>366</td>\n",
       "      <td>22</td>\n",
       "      <td>2023-01-01 00:00:00.000</td>\n",
       "      <td>5.156200</td>\n",
       "    </tr>\n",
       "    <tr>\n",
       "      <th>2</th>\n",
       "      <td>405</td>\n",
       "      <td>7218</td>\n",
       "      <td>ESSENCE SANS PLOMB</td>\n",
       "      <td>2063</td>\n",
       "      <td>22</td>\n",
       "      <td>2023-01-01 00:00:00.000</td>\n",
       "      <td>9.575800</td>\n",
       "    </tr>\n",
       "    <tr>\n",
       "      <th>3</th>\n",
       "      <td>405</td>\n",
       "      <td>7218</td>\n",
       "      <td>GAS OIL</td>\n",
       "      <td>2063</td>\n",
       "      <td>22</td>\n",
       "      <td>2023-01-01 00:00:00.000</td>\n",
       "      <td>22.437000</td>\n",
       "    </tr>\n",
       "    <tr>\n",
       "      <th>4</th>\n",
       "      <td>405</td>\n",
       "      <td>7218</td>\n",
       "      <td>ESSENCE SANS PLOMB</td>\n",
       "      <td>3509</td>\n",
       "      <td>22</td>\n",
       "      <td>2023-01-01 00:00:00.000</td>\n",
       "      <td>10.312400</td>\n",
       "    </tr>\n",
       "    <tr>\n",
       "      <th>...</th>\n",
       "      <td>...</td>\n",
       "      <td>...</td>\n",
       "      <td>...</td>\n",
       "      <td>...</td>\n",
       "      <td>...</td>\n",
       "      <td>...</td>\n",
       "      <td>...</td>\n",
       "    </tr>\n",
       "    <tr>\n",
       "      <th>119572</th>\n",
       "      <td>416</td>\n",
       "      <td>7634</td>\n",
       "      <td>GAS OIL</td>\n",
       "      <td>457997</td>\n",
       "      <td>60</td>\n",
       "      <td>2023-03-31 00:00:00.000</td>\n",
       "      <td>44.874000</td>\n",
       "    </tr>\n",
       "    <tr>\n",
       "      <th>119573</th>\n",
       "      <td>416</td>\n",
       "      <td>7634</td>\n",
       "      <td>GAS OIL</td>\n",
       "      <td>458000</td>\n",
       "      <td>60</td>\n",
       "      <td>2023-03-31 00:00:00.000</td>\n",
       "      <td>22.437000</td>\n",
       "    </tr>\n",
       "    <tr>\n",
       "      <th>119574</th>\n",
       "      <td>416</td>\n",
       "      <td>7634</td>\n",
       "      <td>GAS OIL</td>\n",
       "      <td>458410</td>\n",
       "      <td>5</td>\n",
       "      <td>2023-03-31 00:00:00.000</td>\n",
       "      <td>89.748000</td>\n",
       "    </tr>\n",
       "    <tr>\n",
       "      <th>119575</th>\n",
       "      <td>416</td>\n",
       "      <td>7634</td>\n",
       "      <td>GAS OIL</td>\n",
       "      <td>515341</td>\n",
       "      <td>30</td>\n",
       "      <td>2023-03-31 00:00:00.000</td>\n",
       "      <td>426.303000</td>\n",
       "    </tr>\n",
       "    <tr>\n",
       "      <th>119576</th>\n",
       "      <td>416</td>\n",
       "      <td>7634</td>\n",
       "      <td>GAS OIL</td>\n",
       "      <td>704688</td>\n",
       "      <td>5</td>\n",
       "      <td>2023-03-31 00:00:00.000</td>\n",
       "      <td>44.874000</td>\n",
       "    </tr>\n",
       "  </tbody>\n",
       "</table>\n",
       "<p>119577 rows × 7 columns</p>\n",
       "</div>"
      ],
      "text/plain": [
       "        DimDistrictFK  DimStructurePK      designationPRD  DimClientPK  SA  \\\n",
       "0       dimDistrictPK  dimStructurePK      designationPRD  DimClientPK  SA   \n",
       "1                 405            7218  ESSENCE SANS PLOMB          366  22   \n",
       "2                 405            7218  ESSENCE SANS PLOMB         2063  22   \n",
       "3                 405            7218             GAS OIL         2063  22   \n",
       "4                 405            7218  ESSENCE SANS PLOMB         3509  22   \n",
       "...               ...             ...                 ...          ...  ..   \n",
       "119572            416            7634             GAS OIL       457997  60   \n",
       "119573            416            7634             GAS OIL       458000  60   \n",
       "119574            416            7634             GAS OIL       458410   5   \n",
       "119575            416            7634             GAS OIL       515341  30   \n",
       "119576            416            7634             GAS OIL       704688   5   \n",
       "\n",
       "                         dateop QUANTITE_TM  \n",
       "0                        dateop  quantiteTM  \n",
       "1       2023-01-01 00:00:00.000    5.156200  \n",
       "2       2023-01-01 00:00:00.000    9.575800  \n",
       "3       2023-01-01 00:00:00.000   22.437000  \n",
       "4       2023-01-01 00:00:00.000   10.312400  \n",
       "...                         ...         ...  \n",
       "119572  2023-03-31 00:00:00.000   44.874000  \n",
       "119573  2023-03-31 00:00:00.000   22.437000  \n",
       "119574  2023-03-31 00:00:00.000   89.748000  \n",
       "119575  2023-03-31 00:00:00.000  426.303000  \n",
       "119576  2023-03-31 00:00:00.000   44.874000  \n",
       "\n",
       "[119577 rows x 7 columns]"
      ]
     },
     "execution_count": 28,
     "metadata": {},
     "output_type": "execute_result"
    }
   ],
   "source": [
    "d23 = d23.rename(columns={0: 'DimDistrictFK', 1: 'DimStructurePK', 2: 'designationPRD',3: 'DimClientPK',4: 'SA',5: 'dateop',6: 'QUANTITE_TM'})\n",
    "d23"
   ]
  },
  {
   "cell_type": "code",
   "execution_count": 29,
   "id": "36e8daf9",
   "metadata": {},
   "outputs": [],
   "source": [
    "d23 = d23.drop(0)"
   ]
  },
  {
   "cell_type": "code",
   "execution_count": 30,
   "id": "1e3ee77e",
   "metadata": {},
   "outputs": [],
   "source": [
    "#converting designation\n",
    "\n",
    "d23['designationPRD'] = d23['designationPRD'].replace({'GAS OIL': 0, 'ESSENCE SANS PLOMB': 1})\n"
   ]
  },
  {
   "cell_type": "code",
   "execution_count": 31,
   "id": "f7615f77",
   "metadata": {},
   "outputs": [
    {
     "name": "stdout",
     "output_type": "stream",
     "text": [
      "DimDistrictFK      object\n",
      "DimStructurePK     object\n",
      "designationPRD      int64\n",
      "DimClientPK        object\n",
      "SA                 object\n",
      "dateop             object\n",
      "QUANTITE_TM       float64\n",
      "dtype: object\n"
     ]
    }
   ],
   "source": [
    "# Remplacer les virgules par des points et convertir en float\n",
    "d23['QUANTITE_TM'] = d23['QUANTITE_TM'].apply(lambda x: float(x.replace(',', '.')))\n",
    "\n",
    "# Afficher les types de données de chaque colonne dans le DataFrame\n",
    "print(d23.dtypes)"
   ]
  },
  {
   "cell_type": "code",
   "execution_count": 32,
   "id": "023fc8db",
   "metadata": {},
   "outputs": [
    {
     "name": "stdout",
     "output_type": "stream",
     "text": [
      "                         dateop  QUANTITE_TM\n",
      "3       2023-01-01 00:00:00.000       22.437\n",
      "6       2023-01-01 00:00:00.000       12.465\n",
      "8       2023-01-01 00:00:00.000       22.437\n",
      "9       2023-01-01 00:00:00.000       22.437\n",
      "10      2023-01-01 00:00:00.000       22.437\n",
      "...                         ...          ...\n",
      "118937  2023-03-31 00:00:00.000       44.874\n",
      "118939  2023-03-31 00:00:00.000       20.775\n",
      "118941  2023-03-31 00:00:00.000       24.930\n",
      "118942  2023-03-31 00:00:00.000       24.930\n",
      "118944  2023-03-31 00:00:00.000       22.437\n",
      "\n",
      "[3561 rows x 2 columns]\n"
     ]
    }
   ],
   "source": [
    "# Sélectionner les lignes avec DimStructurePK = 7218 et designationPRD = 1\n",
    "d23_7218 = d23[(d23['DimStructurePK'] == '7218') & (d23['designationPRD'] == 0)]\n",
    "\n",
    "# Garder uniquement les colonnes 'dateop' et 'QUANTITE_TM'\n",
    "d23_7218 = d23_7218[['dateop', 'QUANTITE_TM']]\n",
    "\n",
    "# Afficher le DataFrame df7218\n",
    "print(d23_7218)"
   ]
  },
  {
   "cell_type": "code",
   "execution_count": 33,
   "id": "46bb652d",
   "metadata": {},
   "outputs": [],
   "source": [
    "d23 = d23_7218"
   ]
  },
  {
   "cell_type": "code",
   "execution_count": 34,
   "id": "e7c6e5fc",
   "metadata": {},
   "outputs": [
    {
     "data": {
      "text/html": [
       "<div>\n",
       "<style scoped>\n",
       "    .dataframe tbody tr th:only-of-type {\n",
       "        vertical-align: middle;\n",
       "    }\n",
       "\n",
       "    .dataframe tbody tr th {\n",
       "        vertical-align: top;\n",
       "    }\n",
       "\n",
       "    .dataframe thead th {\n",
       "        text-align: right;\n",
       "    }\n",
       "</style>\n",
       "<table border=\"1\" class=\"dataframe\">\n",
       "  <thead>\n",
       "    <tr style=\"text-align: right;\">\n",
       "      <th></th>\n",
       "      <th>dateop</th>\n",
       "      <th>QUANTITE_TM</th>\n",
       "    </tr>\n",
       "  </thead>\n",
       "  <tbody>\n",
       "    <tr>\n",
       "      <th>0</th>\n",
       "      <td>2023-01</td>\n",
       "      <td>24720.347841</td>\n",
       "    </tr>\n",
       "    <tr>\n",
       "      <th>1</th>\n",
       "      <td>2023-02</td>\n",
       "      <td>23318.691000</td>\n",
       "    </tr>\n",
       "    <tr>\n",
       "      <th>2</th>\n",
       "      <td>2023-03</td>\n",
       "      <td>25826.649000</td>\n",
       "    </tr>\n",
       "  </tbody>\n",
       "</table>\n",
       "</div>"
      ],
      "text/plain": [
       "    dateop   QUANTITE_TM\n",
       "0  2023-01  24720.347841\n",
       "1  2023-02  23318.691000\n",
       "2  2023-03  25826.649000"
      ]
     },
     "execution_count": 34,
     "metadata": {},
     "output_type": "execute_result"
    }
   ],
   "source": [
    "# Convertir la colonne 'dateop' en type de données datetime\n",
    "d23['dateop'] = pd.to_datetime(d23['dateop'])\n",
    "\n",
    "# Créer une nouvelle colonne 'mois' contenant le mois extrait de la colonne 'dateop'\n",
    "d23['dateop'] = d23['dateop'].dt.to_period('M')\n",
    "\n",
    "# Calculer la somme des valeurs de 'QUANTITE_TM' par mois\n",
    "d23 = d23.groupby('dateop')['QUANTITE_TM'].sum().reset_index()\n",
    "\n",
    "# Afficher le DataFrame avec la somme de 'QUANTITE_TM' par mois\n",
    "d23"
   ]
  },
  {
   "cell_type": "code",
   "execution_count": 35,
   "id": "01716b22",
   "metadata": {},
   "outputs": [],
   "source": [
    "#Transformer la variable de temps dateop en index du dataframe :\n",
    "d23 = d23.set_index('dateop')"
   ]
  },
  {
   "cell_type": "code",
   "execution_count": 36,
   "id": "1a85fee5",
   "metadata": {},
   "outputs": [],
   "source": [
    "d23_0 = d23.drop('QUANTITE_TM', axis=1)"
   ]
  },
  {
   "cell_type": "code",
   "execution_count": 37,
   "id": "5188bc0a",
   "metadata": {},
   "outputs": [
    {
     "name": "stdout",
     "output_type": "stream",
     "text": [
      "2023-01    21738.624905\n",
      "2023-02    23308.690388\n",
      "2023-03    21755.742385\n",
      "Freq: M, dtype: float64\n"
     ]
    }
   ],
   "source": [
    "# Obtenir les valeurs prédites\n",
    "valeurs_predites = model_fit.predict(start=d23_0.index[0], end=d23_0.index[-1])\n",
    "# Afficher les valeurs prédites\n",
    "print(valeurs_predites)"
   ]
  },
  {
   "cell_type": "code",
   "execution_count": 38,
   "id": "6f77b83b",
   "metadata": {
    "scrolled": true
   },
   "outputs": [
    {
     "data": {
      "text/html": [
       "<div>\n",
       "<style scoped>\n",
       "    .dataframe tbody tr th:only-of-type {\n",
       "        vertical-align: middle;\n",
       "    }\n",
       "\n",
       "    .dataframe tbody tr th {\n",
       "        vertical-align: top;\n",
       "    }\n",
       "\n",
       "    .dataframe thead th {\n",
       "        text-align: right;\n",
       "    }\n",
       "</style>\n",
       "<table border=\"1\" class=\"dataframe\">\n",
       "  <thead>\n",
       "    <tr style=\"text-align: right;\">\n",
       "      <th></th>\n",
       "      <th>QUANTITE_TM</th>\n",
       "      <th>Predictions</th>\n",
       "    </tr>\n",
       "    <tr>\n",
       "      <th>dateop</th>\n",
       "      <th></th>\n",
       "      <th></th>\n",
       "    </tr>\n",
       "  </thead>\n",
       "  <tbody>\n",
       "    <tr>\n",
       "      <th>2023-01</th>\n",
       "      <td>24720.347841</td>\n",
       "      <td>21738.624905</td>\n",
       "    </tr>\n",
       "    <tr>\n",
       "      <th>2023-02</th>\n",
       "      <td>23318.691000</td>\n",
       "      <td>23308.690388</td>\n",
       "    </tr>\n",
       "    <tr>\n",
       "      <th>2023-03</th>\n",
       "      <td>25826.649000</td>\n",
       "      <td>21755.742385</td>\n",
       "    </tr>\n",
       "  </tbody>\n",
       "</table>\n",
       "</div>"
      ],
      "text/plain": [
       "          QUANTITE_TM   Predictions\n",
       "dateop                             \n",
       "2023-01  24720.347841  21738.624905\n",
       "2023-02  23318.691000  23308.690388\n",
       "2023-03  25826.649000  21755.742385"
      ]
     },
     "execution_count": 38,
     "metadata": {},
     "output_type": "execute_result"
    }
   ],
   "source": [
    "d23['Predictions'] = valeurs_predites\n",
    "d23"
   ]
  },
  {
   "cell_type": "code",
   "execution_count": 39,
   "id": "d753c4c3",
   "metadata": {},
   "outputs": [
    {
     "data": {
      "image/png": "[encoded data removed]",
      "text/plain": [
       "<Figure size 720x432 with 1 Axes>"
      ]
     },
     "metadata": {
      "needs_background": "light"
     },
     "output_type": "display_data"
    },
    {
     "name": "stdout",
     "output_type": "stream",
     "text": [
      "RMSE: 2913.363024994738\n",
      "MSE: 8487684.11540649\n"
     ]
    }
   ],
   "source": [
    "import matplotlib.pyplot as plt\n",
    "import numpy as np\n",
    "\n",
    "# Définir les données\n",
    "y_true = d23['QUANTITE_TM']\n",
    "y_pred = d23['Predictions']\n",
    "months = d23.index.strftime('%Y-%m')\n",
    "\n",
    "# Créer la figure\n",
    "fig, ax = plt.subplots(figsize=(10, 6))\n",
    "\n",
    "# Créer les barres pour les valeurs réelles et prédites\n",
    "bar_width = 0.35\n",
    "opacity = 0.8\n",
    "index = np.arange(len(months))\n",
    "rects1 = ax.bar(index, y_true, bar_width, alpha=opacity, color='b', label='Réel')\n",
    "rects2 = ax.bar(index + bar_width, y_pred, bar_width, alpha=opacity, color='r', label='Prédit')\n",
    "\n",
    "# Ajouter des étiquettes, un titre et une légende\n",
    "ax.set_xlabel('Mois')\n",
    "ax.set_ylabel('Quantité vendue (en tonnes)')\n",
    "ax.set_title('Comparaison des valeurs réelles et prédites pour chaque mois')\n",
    "ax.set_xticks(index + bar_width / 2)\n",
    "ax.set_xticklabels(months, rotation=45)\n",
    "ax.legend()\n",
    "\n",
    "# Afficher le graphique\n",
    "plt.tight_layout()\n",
    "plt.show()\n",
    "\n",
    "\n",
    "mse = mean_squared_error(d23['QUANTITE_TM'],d23['Predictions'])\n",
    "\n",
    "\n",
    "# Calculer l'erreur quadratique moyenne (RMSE)\n",
    "rmse = np.sqrt(mean_squared_error(y_true, y_pred))\n",
    "print('RMSE:', rmse)\n",
    "\n",
    "# Affichage des résultats\n",
    "print(f\"MSE: {mse}\")\n"
   ]
  },
  {
   "cell_type": "code",
   "execution_count": null,
   "id": "279bbae4",
   "metadata": {},
   "outputs": [],
   "source": []
  }
 ],
 "metadata": {
  "kernelspec": {
   "display_name": "Python 3 (ipykernel)",
   "language": "python",
   "name": "python3"
  },
  "language_info": {
   "codemirror_mode": {
    "name": "ipython",
    "version": 3
   },
   "file_extension": ".py",
   "mimetype": "text/x-python",
   "name": "python",
   "nbconvert_exporter": "python",
   "pygments_lexer": "ipython3",
   "version": "3.9.12"
  }
 },
 "nbformat": 4,
 "nbformat_minor": 5
}
